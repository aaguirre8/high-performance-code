{
 "cells": [
  {
   "cell_type": "markdown",
   "metadata": {},
   "source": [
    "### Diabetes Dataset Preparation"
   ]
  },
  {
   "cell_type": "markdown",
   "metadata": {},
   "source": [
    "Date: 06/06/22<br>\n",
    "The code and dataset in this notebook was copied from Kaggle.com <br>\n",
    "Moreover, the code was refactorized. \n",
    "\n",
    "\n",
    "* Code owner: [Shruti_Iyyer](https://www.kaggle.com/shrutimechlearn)\n",
    "* Refactorized by: Alejandro Aguirre\n",
    "* Notebook reference: [Kaggle, Step by Step Diabetes Classification-KNN-detailed](https://www.kaggle.com/code/shrutimechlearn/step-by-step-diabetes-classification-knn-detailed/notebook)\n",
    "* Notebook section: Scrubbing / Cleaning our Data"
   ]
  },
  {
   "cell_type": "markdown",
   "metadata": {},
   "source": [
    "Imports"
   ]
  },
  {
   "cell_type": "code",
   "execution_count": 1,
   "metadata": {},
   "outputs": [],
   "source": [
    "import numpy as np\n",
    "import pandas as pd"
   ]
  },
  {
   "cell_type": "markdown",
   "metadata": {},
   "source": [
    "Ingest data"
   ]
  },
  {
   "cell_type": "code",
   "execution_count": 2,
   "metadata": {},
   "outputs": [],
   "source": [
    "df_raw = pd.read_csv(\"https://raw.githubusercontent.com/aaguirre8/high-performance-code/main/diabetes-raw.csv\")"
   ]
  },
  {
   "cell_type": "markdown",
   "metadata": {},
   "source": [
    "Replace missing values, based on the Nootebook exploratory data analysis."
   ]
  },
  {
   "cell_type": "code",
   "execution_count": 3,
   "metadata": {},
   "outputs": [],
   "source": [
    "# Replace 0's by NaN\n",
    "df_clean = df_raw.copy(deep = True)\n",
    "df_clean[['Glucose','BloodPressure','SkinThickness','Insulin','BMI']] = df_raw[['Glucose','BloodPressure','SkinThickness','Insulin','BMI']].replace(0, np.NaN)\n",
    "\n",
    "# Fill NaN\n",
    "df_clean.fillna({\n",
    "    'Glucose':df_clean.Glucose.mean(),\n",
    "    'BloodPressure':df_clean.BloodPressure.mean(),\n",
    "    'SkinThickness':df_clean.SkinThickness.median(),\n",
    "    'Insulin':df_clean.Insulin.median(),\n",
    "    'BMI':df_clean.BMI.median()\n",
    "    },\n",
    "    inplace = True)"
   ]
  },
  {
   "cell_type": "markdown",
   "metadata": {},
   "source": [
    "Load result"
   ]
  },
  {
   "cell_type": "code",
   "execution_count": 10,
   "metadata": {},
   "outputs": [],
   "source": [
    "output_path = 'diabetes-dataset-clean.csv'\n",
    "df_clean.to_csv(output_path, encoding = 'utf-8', index = False)"
   ]
  }
 ],
 "metadata": {
  "interpreter": {
   "hash": "81794d4967e6c3204c66dcd87b604927b115b27c00565d3d43f05ba2f3a2cb0d"
  },
  "kernelspec": {
   "display_name": "Python 3.9.6 64-bit",
   "language": "python",
   "name": "python3"
  },
  "language_info": {
   "codemirror_mode": {
    "name": "ipython",
    "version": 3
   },
   "file_extension": ".py",
   "mimetype": "text/x-python",
   "name": "python",
   "nbconvert_exporter": "python",
   "pygments_lexer": "ipython3",
   "version": "3.9.6"
  },
  "orig_nbformat": 4
 },
 "nbformat": 4,
 "nbformat_minor": 2
}

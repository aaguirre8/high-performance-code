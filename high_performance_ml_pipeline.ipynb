{
  "nbformat": 4,
  "nbformat_minor": 0,
  "metadata": {
    "colab": {
      "name": "high-performance-ml-pipeline.ipynb",
      "provenance": [],
      "collapsed_sections": [
        "e3KbpUfKpxpw"
      ],
      "authorship_tag": "ABX9TyNfDfcHfIJPydcnVE0x4IPn",
      "include_colab_link": true
    },
    "kernelspec": {
      "name": "python3",
      "display_name": "Python 3"
    },
    "language_info": {
      "name": "python"
    },
    "accelerator": "GPU",
    "gpuClass": "standard"
  },
  "cells": [
    {
      "cell_type": "markdown",
      "metadata": {
        "id": "view-in-github",
        "colab_type": "text"
      },
      "source": [
        "<a href=\"https://colab.research.google.com/github/aaguirre8/high-performance-code/blob/main/high_performance_ml_pipeline.ipynb\" target=\"_parent\"><img src=\"https://colab.research.google.com/assets/colab-badge.svg\" alt=\"Open In Colab\"/></a>"
      ]
    },
    {
      "cell_type": "markdown",
      "source": [
        "# High Performance k-Means Machine Learning with NVIDIA CUDA API Parallelization\n",
        "\n",
        "**Author:** Alejandro Aguirre, Data Scientist Tech Lead | Data Engineer Jr, @ The Hackett Group <br>\n",
        "**Date:** 28/May/22 <br>\n",
        "\n",
        "For furhter information please refer to the README.MD file on the [GitHub Repo](https://github.com/aaguirre8/high-performance-code.git) \n",
        "\n"
      ],
      "metadata": {
        "id": "jJCFnmBqrNnI"
      }
    },
    {
      "cell_type": "markdown",
      "source": [
        "### Colab Content"
      ],
      "metadata": {
        "id": "e3KbpUfKpxpw"
      }
    },
    {
      "cell_type": "markdown",
      "source": [
        "## Introduction"
      ],
      "metadata": {
        "id": "0JhfahqNG3LW"
      }
    },
    {
      "cell_type": "markdown",
      "source": [
        "It was forecasted that approximately every two years the processor's capacity will double (Moore, 1965). However, around 2003 when the multi-core machines came in the performance scaling ratio was reduced drastically (Brainspire, 2019). <br>\n",
        "<br>\n",
        "In real-world Big Data problems where Machine Learning (ML) solutions are required, python libraries may not be suitable to scale ML pipelines. Although scikit-learn is a robust and resourceful ML toolkit, python's Global Interpreter Lock (GIL) will -in most cases- run the pipeline as if is running on a single core. <br>\n",
        "<br>\n",
        "To work around the issue, other specific-purpose-use processors (ASIC) such as GPU and TPU can be used. In contrast to CPUs, GPUs become handy performing concurrent programming. <br>\n",
        "<br>\n",
        "The aim of this Colab is to explore a robust ML pipeline optimization using NVIDIA's Compute Unified Device Architecture (CUDA) parallel computing platform. Specifically, RAPIDS cuML API. RAPIDS is an open-source project supported by NVIDIA. cuML is a suite of data science libraries for GPU-accelerated ML and analytics."
      ],
      "metadata": {
        "id": "Do9bZakmG_Xk"
      }
    },
    {
      "cell_type": "markdown",
      "source": [
        "## RAPIDS cuML API - Colab Setup"
      ],
      "metadata": {
        "id": "Ty6F9yA-zkdV"
      }
    },
    {
      "cell_type": "markdown",
      "source": [
        "To enable cuML in Colab, the environment requires a setup with the following considerations to be taken in place: <br>\n",
        "\n",
        "*   The runtime hardware accelerator must be set in GPUs.\n",
        "*   The allocated GPU must be a Tesla T4, P4 or P100. <br>\n",
        "<br>\n",
        "\n",
        "For further reference, please navigate through this [Colab Notebook](https://colab.research.google.com/drive/1rY7Ln6rEE1pOlfSHCYOVaqt8OvDO35J0) <br>"
      ],
      "metadata": {
        "id": "oNy6gTHLzkdW"
      }
    },
    {
      "cell_type": "code",
      "source": [
        "!nvidia-smi"
      ],
      "metadata": {
        "colab": {
          "base_uri": "https://localhost:8080/",
          "height": 0
        },
        "outputId": "d515dc91-81f2-472f-ad8a-7988050ec75b",
        "id": "tVHaTzc4zkdW"
      },
      "execution_count": 1,
      "outputs": [
        {
          "output_type": "stream",
          "name": "stdout",
          "text": [
            "Tue Jun 21 20:37:04 2022       \n",
            "+-----------------------------------------------------------------------------+\n",
            "| NVIDIA-SMI 460.32.03    Driver Version: 460.32.03    CUDA Version: 11.2     |\n",
            "|-------------------------------+----------------------+----------------------+\n",
            "| GPU  Name        Persistence-M| Bus-Id        Disp.A | Volatile Uncorr. ECC |\n",
            "| Fan  Temp  Perf  Pwr:Usage/Cap|         Memory-Usage | GPU-Util  Compute M. |\n",
            "|                               |                      |               MIG M. |\n",
            "|===============================+======================+======================|\n",
            "|   0  Tesla P100-PCIE...  Off  | 00000000:00:04.0 Off |                    0 |\n",
            "| N/A   49C    P0    31W / 250W |      0MiB / 16280MiB |      0%      Default |\n",
            "|                               |                      |                  N/A |\n",
            "+-------------------------------+----------------------+----------------------+\n",
            "                                                                               \n",
            "+-----------------------------------------------------------------------------+\n",
            "| Processes:                                                                  |\n",
            "|  GPU   GI   CI        PID   Type   Process name                  GPU Memory |\n",
            "|        ID   ID                                                   Usage      |\n",
            "|=============================================================================|\n",
            "|  No running processes found                                                 |\n",
            "+-----------------------------------------------------------------------------+\n"
          ]
        }
      ]
    },
    {
      "cell_type": "code",
      "source": [
        "# This get the RAPIDS-Colab install files and test check your GPU.  Run this and the next cell only.\n",
        "# Please read the output of this cell.  If your Colab Instance is not RAPIDS compatible, it will warn you and give you remediation steps.\n",
        "!git clone https://github.com/rapidsai/rapidsai-csp-utils.git\n",
        "!python rapidsai-csp-utils/colab/env-check.py"
      ],
      "metadata": {
        "id": "Bl2r0_lRzkdW"
      },
      "execution_count": null,
      "outputs": []
    },
    {
      "cell_type": "code",
      "source": [
        "# This will update the Colab environment and restart the kernel.  Don't run the next cell until you see the session crash.\n",
        "!bash rapidsai-csp-utils/colab/update_gcc.sh\n",
        "import os\n",
        "os._exit(00)"
      ],
      "metadata": {
        "id": "GDEei47VzkdW"
      },
      "execution_count": null,
      "outputs": []
    },
    {
      "cell_type": "code",
      "source": [
        "# This will install CondaColab.  This will restart your kernel one last time.  Run this cell by itself and only run the next cell once you see the session crash.\n",
        "import condacolab\n",
        "condacolab.install()"
      ],
      "metadata": {
        "id": "B2_AmQCfzkdW"
      },
      "execution_count": null,
      "outputs": []
    },
    {
      "cell_type": "code",
      "source": [
        "# NOTE: THIS PROCESS MAY TAKE BETWEEN 15 MINS TO 30 MINS\n",
        "\n",
        "# Installing RAPIDS is now 'python rapidsai-csp-utils/colab/install_rapids.py <release> <packages>'\n",
        "# The <release> options are 'stable' and 'nightly'.  Leaving it blank or adding any other words will default to stable.\n",
        "!python rapidsai-csp-utils/colab/install_rapids.py stable\n",
        "import os\n",
        "os.environ['NUMBAPRO_NVVM'] = '/usr/local/cuda/nvvm/lib64/libnvvm.so'\n",
        "os.environ['NUMBAPRO_LIBDEVICE'] = '/usr/local/cuda/nvvm/libdevice/'\n",
        "os.environ['CONDA_PREFIX'] = '/usr/local'"
      ],
      "metadata": {
        "id": "s8ZbOUNlzkdW"
      },
      "execution_count": null,
      "outputs": []
    },
    {
      "cell_type": "code",
      "source": [
        "# !curl https://colab.chainer.org/install | sh -\n",
        "\n",
        "# !pip install cucim\n",
        "# !pip install scipy scikit-image cupy-cuda100"
      ],
      "metadata": {
        "id": "SsV4mJcVzkdW"
      },
      "execution_count": null,
      "outputs": []
    },
    {
      "cell_type": "markdown",
      "source": [
        "## Pipeline Code"
      ],
      "metadata": {
        "id": "wLsVcTwDzxYm"
      }
    },
    {
      "cell_type": "markdown",
      "source": [
        "Author:          Alejandro Aguirre | [LinkedIn Profile](https://www.linkedin.com/in/aaguirrealv/) <br>\n",
        "eMail:           alejandro.aguirre@thehackettgroup.com <br>\n",
        "Date:            19/June/2022 <br>\n",
        "Revision:        1 <br>\n",
        "Revision date:   -- <br>\n",
        "Revised by: ----"
      ],
      "metadata": {
        "id": "27Xo6_sJubyD"
      }
    },
    {
      "cell_type": "markdown",
      "source": [
        "In this section, the code to perform the ML pipeline simulation and analytics can be found.\n",
        "\n",
        "1.   **ML pipeline utilities:**\n",
        "    *   Data ingestion\n",
        "    *   Data preprocessing\n",
        "    *   kNN training\n",
        "    *   kNN prediction and metric computation\n",
        "    *   GridSearchCV parametrization\n",
        "\n",
        "2.   **Pipeline simulation utilities**\n",
        "    *   Pipeline simulation with different number of data points\n",
        "\n",
        "3.   **Analytics utilities**\n",
        "    *   Bar plot --> Runtimes comparisson\n",
        "    *   Line series --> Runtimes trend\n",
        "\n"
      ],
      "metadata": {
        "id": "lzeReEMZTBQh"
      }
    },
    {
      "cell_type": "markdown",
      "source": [
        "### ML pipeline utilities"
      ],
      "metadata": {
        "id": "isPbrP07KYFM"
      }
    },
    {
      "cell_type": "code",
      "source": [
        "'''\n",
        "ToDO:\n",
        "  *   Setup python logger for Colab\n",
        "\n",
        "'''\n",
        "\n",
        "import logging\n",
        "from timeit import default_timer as timer\n",
        "from typing import Dict\n",
        "\n",
        "import pandas as pd\n",
        "from pandas.core.frame import DataFrame\n",
        "import numpy as np\n",
        "\n",
        "import cupy as cp\n",
        "import cuml, cudf\n",
        "\n",
        "from sklearn import datasets\n",
        "from sklearn.preprocessing import StandardScaler as skStandardScaler\n",
        "from sklearn.model_selection import train_test_split as sk_train_test_split\n",
        "from sklearn.neighbors import KNeighborsClassifier as skKNeighbors\n",
        "from sklearn.model_selection import GridSearchCV\n",
        "\n",
        "from cuml.preprocessing import StandardScaler as cuMLStandardScaler\n",
        "from cuml.neighbors import KNeighborsClassifier as cuKNeighbors\n",
        "from cuml.model_selection import train_test_split as cuML_train_test_split\n",
        "\n",
        "import matplotlib.pyplot as plt\n",
        "import seaborn as sns\n",
        "\n",
        "%matplotlib inline\n",
        "\n",
        "# def set_logger(logger_name, mode='w'):\n",
        "#   logging.basicConfig(\n",
        "#       filename='log',\n",
        "#       filemode=mode,\n",
        "#       format='%(asctime)s,%(msecs)d %(name)s %(levelname)s %(message)',\n",
        "#       datefmt='%H:%M:%S',\n",
        "#       level=logging.INFO\n",
        "#   )\n",
        "#   logger = logging.getLogger(logger_name)\n",
        "#   return logger\n",
        "\n",
        "# Create generic dataset\n",
        "# X, y  = datasets.make_classification(n_samples=500000)\n",
        "\n",
        "\n",
        "def dataset_ingestion(data_url, programming_type):\n",
        "  '''\n",
        "  Ingest data as\n",
        "  a pdDF or cuDF\n",
        "\n",
        "  params:\n",
        "    :data_url, type-str: diabetes dataset url\n",
        "    :programming_type, type-str:\n",
        "      CPU -> pipeline execution on CPU\n",
        "      GPU -> pipeline executon on GPU\n",
        "\n",
        "  return: DataFrame\n",
        "\n",
        "  '''\n",
        "  if programming_type == 'CPU':\n",
        "    df = pd.read_csv(data_url)\n",
        "  elif programming_type == 'GPU':\n",
        "    df = cudf.read_csv(data_url)\n",
        "  return df\n",
        "  \n",
        "\n",
        "def generic_dataset(sample_size, programming_type):\n",
        "  '''\n",
        "  Build a generic classification dataset\n",
        "  from SkLearn's datasets\n",
        "\n",
        "  params:\n",
        "    :sample_size, type-int: number of sample\n",
        "    :programming_type, type-str:\n",
        "      CPU -> pipeline execution on CPU\n",
        "      GPU -> pipeline executon on GPU\n",
        "\n",
        "  return: ndarray, array\n",
        "\n",
        "  '''\n",
        "  # step 1 - generate dataset\n",
        "  X, y  = datasets.make_classification(n_samples=sample_size)\n",
        "\n",
        "  # step 2 - parse data types\n",
        "  X = X.astype(np.float32)\n",
        "  y = y.astype(np.float32)\n",
        "\n",
        "  if programming_type == 'CPU':\n",
        "    None\n",
        "\n",
        "  elif programming_type == 'GPU':\n",
        "\n",
        "    # step 3 - parse from ndarray --> cupy.ndarray\n",
        "    X = cp.array(X)\n",
        "    y = cp.array(y)\n",
        "\n",
        "  return X, y\n",
        "\n",
        "def ml_preprocessing(is_generic_dataset, programming_type, df=None, X=None, y=None):\n",
        "  '''\n",
        "  Data preprocessing\n",
        "  subroutine for ML\n",
        "\n",
        "  params:\n",
        "    :is_generic_dataset, type-boolean: is the generic datataset used?\n",
        "    :programming_type, type-str:\n",
        "      CPU -> pipeline execution on CPU\n",
        "      GPU -> pipeline executon on GPU\n",
        "\n",
        "  default params:\n",
        "    :df, type-pdDF/cuDF: dataset\n",
        "    :X, type- ndarray / cupy.ndarray: features\n",
        "    :y, type- array / cupy.array: features\n",
        "  \n",
        "  return:\n",
        "    CPU --> py Dict\n",
        "    GPU --> cuML ndarray / cuML array\n",
        "\n",
        "  '''\n",
        "  if is_generic_dataset:\n",
        "\n",
        "    # step 1 - split data\n",
        "    if programming_type == 'CPU':\n",
        "      X_train, X_test, y_train, y_test = sk_train_test_split(X, y, test_size=1/3,random_state=42, stratify=y)\n",
        "    elif programming_type == 'GPU':\n",
        "      X_train, X_test, y_train, y_test = cuML_train_test_split(X, y, test_size=1/3)\n",
        "    return X_train, X_test, y_train, y_test\n",
        "\n",
        "  else:\n",
        "\n",
        "    if programming_type == 'CPU':\n",
        "\n",
        "      # step 1 - define scaler object\n",
        "      sc = skStandardScaler()\n",
        "\n",
        "      # step 2 - scale X variables\n",
        "      X = df.drop(['Outcome'], axis=1)\n",
        "      X_columns = X.columns.tolist()\n",
        "      X[X_columns] = sc.fit_transform(X[X_columns])\n",
        "\n",
        "      # step 3 - extract y values\n",
        "      y = df['Outcome'].values\n",
        "\n",
        "      # step 4 - split dataset\n",
        "      X_train, X_test, y_train, y_test = sk_train_test_split(X[X_columns], y, test_size=1/3,random_state=42, stratify=y)\n",
        "\n",
        "    elif programming_type == 'GPU':\n",
        "      # step 1 - define scaler object\n",
        "      sc = cuMLStandardScaler()\n",
        "\n",
        "      # step 2 - scale X variables\n",
        "      X = df.drop(['Outcome'], axis=1)\n",
        "      sc.fit(X)\n",
        "      sc.transform(X)\n",
        "\n",
        "      # step 3 - extract y values\n",
        "      y = df['Outcome'].values\n",
        "\n",
        "      # step 4 - split dataset\n",
        "      X_train, X_test, y_train, y_test = cuML_train_test_split(X, y, test_size=1/3)\n",
        "\n",
        "    # step 5 - parse dataset to dictionary\n",
        "    data_dict = {\n",
        "        'X_train':X_train,\n",
        "        'X_test':X_test,\n",
        "        'y_train':y_train,\n",
        "        'y_test':y_test\n",
        "    }\n",
        "\n",
        "    return data_dict\n",
        "\n",
        "\n",
        "def ml_prediction(programming_type,\n",
        "                  is_generic_dataset,\n",
        "                  data_dict=None,\n",
        "                  X_train=None,\n",
        "                  X_test=None,\n",
        "                  y_train=None,\n",
        "                  y_test=None\n",
        "                  ):\n",
        "  '''\n",
        "  Build, train and predict\n",
        "  using kNN ML\n",
        "\n",
        "  params:\n",
        "    :data_dict, type-py Dict: Split dataset variables\n",
        "\n",
        "  return:\n",
        "    y_hat, array\n",
        "    train_score, float\n",
        "    test_score, float\n",
        "\n",
        "  '''\n",
        "  # step 1 - extract data\n",
        "\n",
        "  if is_generic_dataset:\n",
        "    None\n",
        "\n",
        "  else:\n",
        "    X_train = data_dict.get('X_train')\n",
        "    X_test = data_dict.get('X_test')\n",
        "    y_train = data_dict.get('y_train')\n",
        "    y_test = data_dict.get('y_test')\n",
        "\n",
        "  # step 2 - define ML model object\n",
        "  if programming_type == 'CPU':\n",
        "    knn = skKNeighbors(n_neighbors = 20)\n",
        "\n",
        "  elif programming_type =='GPU':\n",
        "    knn = cuKNeighbors(n_neighbors = 20)\n",
        "\n",
        "  elif programming_type =='GPU':\n",
        "\n",
        "    # step 3 - move data to gpu\n",
        "    if is_generic_dataset:\n",
        "      X_train = cp.asarray(X_train)\n",
        "      X_test = cp.asarray(X_test)\n",
        "      y_train = cp.asarray(y_train)\n",
        "      y_test = cp.asarray(y_test)\n",
        "      cp.cuda.Stream().synchronize()\n",
        "\n",
        "    else:\n",
        "      X_train = cp.asarray(X_train.to_cupy())\n",
        "      X_test = cp.asarray(X_test.to_cupy())\n",
        "      y_train = cp.asarray(y_train)\n",
        "      y_test = cp.asarray(y_test)\n",
        "      cp.cuda.Stream().synchronize()\n",
        "\n",
        "  # step 4 - train model\n",
        "  knn.fit(X_train, y_train)\n",
        "\n",
        "  # step 5 - predict\n",
        "  y_hat = knn.predict(X_test)\n",
        "\n",
        "  # step 6 - compute model's mean accuracy\n",
        "  train_score = []\n",
        "  test_score = []\n",
        "  train_score.append(knn.score(X_train, y_train))\n",
        "  train_score.append(knn.score(X_train, y_train))\n",
        "  test_score.append(knn.score(X_test, y_test))\n",
        "\n",
        "  return y_hat, train_score, test_score\n",
        "\n",
        "\n",
        "def ml_optimization(programming_type,\n",
        "                  is_generic_dataset,\n",
        "                  data_dict=None,\n",
        "                  X_train=None,\n",
        "                  X_test=None,\n",
        "                  y_train=None,\n",
        "                  y_test=None\n",
        "                  ):\n",
        "  '''\n",
        "  Find the best k_neighbors number\n",
        "\n",
        "  return: int\n",
        "\n",
        "  '''\n",
        "  if is_generic_dataset:\n",
        "    None\n",
        "\n",
        "  else:\n",
        "\n",
        "    # step 1 - extract data\n",
        "    X_train = data_dict.get('X_train')\n",
        "    X_test = data_dict.get('X_test')\n",
        "    y_train = data_dict.get('y_train')\n",
        "    y_test = data_dict.get('y_test')\n",
        "\n",
        "  if programming_type == 'CPU':\n",
        "\n",
        "    # step 2 - define scikit-learn model object\n",
        "    knn = skKNeighbors()\n",
        "\n",
        "  elif programming_type == 'GPU':\n",
        "\n",
        "    # step 2 - define cuML model object\n",
        "    knn = cuKNeighbors()\n",
        "\n",
        "  elif programming_type == 'GPU':\n",
        "\n",
        "    if is_generic_dataset:\n",
        "\n",
        "      # step 2.1 - move data to GPU\n",
        "      X_train = cp.asarray(X_train)\n",
        "      X_test = cp.asarray(X_test)\n",
        "      y_train = cp.asarray(y_train)\n",
        "      y_test = cp.asarray(y_test)\n",
        "      cp.cuda.Stream().synchronize()\n",
        "\n",
        "    else:\n",
        "\n",
        "      # step 2.1 - move data to GPU\n",
        "      X_train = cp.asarray(X_train.to_cupy())\n",
        "      X_test = cp.asarray(X_test.to_cupy())\n",
        "      y_train = cp.asarray(y_train)\n",
        "      y_test = cp.asarray(y_test)\n",
        "      cp.cuda.Stream().synchronize()\n",
        "\n",
        "  # step 3 - define GridSearch object\n",
        "  grid = {'n_neighbors':np.arange(1, 30)}\n",
        "\n",
        "  # step 4 - hyperparametrization\n",
        "  hyperparameters = GridSearchCV(knn, grid, cv=5)\n",
        "  if programming_type == 'CPU':\n",
        "    hyperparameters.fit(X_train, y_train)\n",
        "  elif programming_type == 'GPU':\n",
        "    hyperparameters.fit(X_train, y_train.get())\n",
        "\n",
        "  # step 5 - find the best number of k-Neighbors\n",
        "  best_params = hyperparameters.best_params_\n",
        "\n",
        "  return best_params\n",
        "\n",
        "\n",
        "def main(params):\n",
        "    \"\"\"\n",
        "    Run ML pipeline\n",
        "\n",
        "    Pipeline steps:\n",
        "\n",
        "    1. Read data\n",
        "    2. Preprocess data for ML\n",
        "    3. ML modelling and prediction\n",
        "    4. ML optimization\n",
        "\n",
        "    params:\n",
        "      :params, type-py Dict: pipeline config params\n",
        "\n",
        "    return py Dict\n",
        "\n",
        "    \"\"\"\n",
        "\n",
        "    # get pipeline params\n",
        "    programming_type = params.get('programming_type')\n",
        "    data_url = params.get('data_url')\n",
        "    is_generic_dataset = params.get('is_generic_dataset')\n",
        "    sample_size = params.get('sample_size')\n",
        "\n",
        "    # pipeline setup\n",
        "    print (f'ML pipeline will run on {programming_type}')\n",
        "\n",
        "    try:\n",
        "\n",
        "      if is_generic_dataset:\n",
        "\n",
        "        # step 1 - read data\n",
        "        print(f'step 1 - building generic dataset - sample size: {sample_size}')\n",
        "        X, y = generic_dataset(sample_size, programming_type)\n",
        "        print(f'Dataset shape: {X.shape}')\n",
        "        dataset_dim = X.shape\n",
        "\n",
        "        # step 2 - prepare data for ML\n",
        "        print(f'step 2 - preprocessing data for ML')\n",
        "        X_train, X_test, y_train, y_test = ml_preprocessing(True, programming_type, X=X, y=y)\n",
        "\n",
        "        # step 3 - train model and predict\n",
        "        print('step 3 - Training k-Nearest Neighbor model & making the predicting')\n",
        "        start = timer()\n",
        "        y_hat, train_score, test_score = ml_prediction(programming_type,\n",
        "                                                       is_generic_dataset,\n",
        "                                                       X_train=X_train,\n",
        "                                                       X_test=X_test,\n",
        "                                                       y_train=y_train,\n",
        "                                                       y_test=y_test\n",
        "                                                       )\n",
        "        runtime_ml = timer() - start\n",
        "        print(f'ML mean accuracy: {test_score}')\n",
        "        print(f'Model training and prediction runtime: {runtime_ml}')\n",
        "\n",
        "        # step 4 - GridSearchCV hyperparametrization\n",
        "        print('step 4 - Finding the best # of Neighbors through GridSearch CV')\n",
        "        start = timer()\n",
        "        best_neighbors = ml_optimization(programming_type,\n",
        "                                         True,\n",
        "                                         X_train=X_train,\n",
        "                                         X_test=X_test,\n",
        "                                         y_train=y_train,\n",
        "                                         y_test=y_test    \n",
        "                                         )\n",
        "        runtime_gridsearchcv = timer() - start\n",
        "        print(f'Best number of kNeighbors: {best_neighbors}')\n",
        "        print(f'ML oprtimization runtime: {runtime_gridsearchcv}')\n",
        "\n",
        "      else:\n",
        "\n",
        "        # step 1 - read data\n",
        "        print(f'step 1 - reading diabetes dataset from URL {data_url}')\n",
        "        df = dataset_ingestion(data_url, programming_type)\n",
        "        print(f'Dataset shape: {df.shape}')\n",
        "        dataset_dim = df.shape\n",
        "\n",
        "        # step 2 - prepare data for ML\n",
        "        print('step 2 - preprocessing data for ML')\n",
        "        data_dict = ml_preprocessing(is_generic_dataset, programming_type, df)\n",
        "\n",
        "        # step 3 - train model and predict\n",
        "        print('step 3 - Training k-Nearest Neighbor model & making the predicting')\n",
        "        start = timer()\n",
        "        y_hat, train_score, test_score = ml_prediction(programming_type, is_generic_dataset, data_dict)\n",
        "        runtime_ml = timer() - start\n",
        "        print(f'ML mean accuracy: {test_score}')\n",
        "        print(f'Model training and prediction runtime: {runtime_ml}')\n",
        "\n",
        "        # step 4 - GridSearchCV hyperparametrization\n",
        "        print('step 4 - Finding the best # of Neighbors through GridSearch CV')\n",
        "        start = timer()\n",
        "        best_neighbors = ml_optimization(programming_type, is_generic_dataset, data_dict)\n",
        "        runtime_gridsearchcv = timer() - start\n",
        "        print(f'Best number of kNeighbors: {best_neighbors}')\n",
        "        print(f'ML optimization runtime: {runtime_gridsearchcv}')\n",
        "\n",
        "      pipeline_results = {\n",
        "          'programming_type':programming_type,\n",
        "          'runtime_ml':runtime_ml,\n",
        "          'runtime_gridsearchcv':runtime_gridsearchcv\n",
        "      }\n",
        "\n",
        "    except Exception as ex:\n",
        "      print(f'Error in ML pipeline - {ex}')\n",
        "      raise ex\n",
        "\n",
        "    return pipeline_results"
      ],
      "metadata": {
        "id": "Ar672Bd11qmv"
      },
      "execution_count": 2,
      "outputs": []
    },
    {
      "cell_type": "markdown",
      "source": [
        "### Pipeline simulation utilities"
      ],
      "metadata": {
        "id": "2yhLXl7GUqyf"
      }
    },
    {
      "cell_type": "code",
      "source": [
        "'''\n",
        "ToDO:\n",
        "  *   Pass is_simulation as parameter to change logs and store simulation data\n",
        "\n",
        "'''\n",
        "\n",
        "\n",
        "def ml_simulation(programming_type):\n",
        "  '''\n",
        "  Simulate ML pipeline using the\n",
        "  generic dataset with different\n",
        "  samples number.\n",
        "\n",
        "  params:\n",
        "    :programming_type, type-str:\n",
        "      CPU -> simulation execution on CPU\n",
        "      GPU -> simulation executon on GPU\n",
        "\n",
        "  return list, list\n",
        "\n",
        "  '''\n",
        "  # create range of data records simulation\n",
        "  records_list = np.arange(1000, 41000, 10000).tolist()\n",
        "  # define storage variables\n",
        "  ml_simulation_datapoints = []\n",
        "  optimization_simulation_datapoints = []\n",
        "  # execute simulation\n",
        "  for records in records_list:\n",
        "    params = {\n",
        "        'programming_type':programming_type,\n",
        "        'is_generic_dataset':True,\n",
        "        'sample_size':records\n",
        "    }\n",
        "    simulaton_results = main(params)\n",
        "    r1 = simulaton_results.get('runtime_ml')\n",
        "    r2 = simulaton_results.get('runtime_gridsearchcv')\n",
        "    ml_simulation_datapoints.append(r1)\n",
        "    optimization_simulation_datapoints.append(r2)\n",
        "\n",
        "  return ml_simulation_datapoints, optimization_simulation_datapoints"
      ],
      "metadata": {
        "id": "qPOfSLFUUqyf"
      },
      "execution_count": 3,
      "outputs": []
    },
    {
      "cell_type": "markdown",
      "source": [
        "### Analytics utilities"
      ],
      "metadata": {
        "id": "mAoInIeoIKzR"
      }
    },
    {
      "cell_type": "code",
      "source": [
        "def barplot_graphs(cpu_result, gpu_result):\n",
        "  '''\n",
        "  Plot bar graph to compare\n",
        "  CPU and GPU runtimes for\n",
        "  ML modelling and ML optimization\n",
        "\n",
        "  params:\n",
        "    :cpu_result, type-py Dict: CPU ML pipeline result\n",
        "    :gpu_result, type-py Dict: GPU ML pipeline result\n",
        "\n",
        "  return None\n",
        "\n",
        "  '''\n",
        "  # step 1 - parse results to DataFrames\n",
        "  df = pd.DataFrame([cpu_result, gpu_result])\n",
        "\n",
        "  # step 2 - setup plot\n",
        "  fig, (ax1, ax2) = plt.subplots(1, 2, figsize=[14, 6])\n",
        "  fig.subplots_adjust(top=0.9)\n",
        "  plt.suptitle('Runtimes - CPU vs GPU', fontsize=12, fontweight='bold')\n",
        "\n",
        "  # step 3 - plot ML runtime\n",
        "  g1 = sns.barplot(data=df,\n",
        "                  x='programming_type',\n",
        "                  y='runtime_ml',\n",
        "                  order=['GPU', 'CPU'],\n",
        "                  ax=ax1,\n",
        "                  )\n",
        "  g1.set_xticklabels(ax1.get_xticklabels(), fontsize=10)\n",
        "  g1.set_xlabel('Programming Approaches', fontsize=10)\n",
        "  g1.set_ylabel('ML Runtime [seconds]', fontsize=10)\n",
        "\n",
        "  # step 4 - plot ML optimization runtime\n",
        "  g2 = sns.barplot(data=df,\n",
        "                  x='programming_type',\n",
        "                  y='runtime_gridsearchcv',\n",
        "                  order=['GPU', 'CPU'],\n",
        "                  ax=ax2,\n",
        "                  )\n",
        "  g2.set_xticklabels(ax2.get_xticklabels(), fontsize=10)\n",
        "  g2.set_xlabel('Programming Approaches', fontsize=10)\n",
        "  g2.set_ylabel(f'Hyperparametrization Runtime [seconds]', fontsize=10)\n",
        "\n",
        "  # step 5 - format\n",
        "  sns.despine()\n",
        "\n",
        "  return None\n",
        "\n",
        "\n",
        "def runtime_ratios(cpu_result, gpu_result):\n",
        "  '''\n",
        "  Compute GPU/CPU runtime ratios\n",
        "  for ML modelling and ML optimization\n",
        "\n",
        "  params:\n",
        "    :cpu_result, type-py Dict: CPU ML pipeline result\n",
        "    :gpu_result, type-py Dict: GPU ML pipeline result\n",
        "\n",
        "  return float, float\n",
        "\n",
        "  '''\n",
        "  # step 1 - parse results to DataFrames\n",
        "  df = pd.DataFrame([cpu_result, gpu_result])\n",
        "  \n",
        "  # step 2 - compute runtime ratios\n",
        "  ml_ratio = round((df.iloc[1,1] / df.iloc[0,1]), 2)\n",
        "  optimization_ratio = round((df.iloc[1,2] / df.iloc[0,2]), 2)\n",
        "\n",
        "  return ml_ratio, optimization_ratio\n",
        "\n",
        "\n",
        "def visualize_simulation(df, y_data, title):\n",
        "  '''\n",
        "  Plot GPU/CPU simulation series\n",
        "  for ML modelling and ML optimization\n",
        "\n",
        "  params:\n",
        "    :df, type-pdDF: Simulation data as pandas DataFrame\n",
        "    :y_data, type-series: Runtimes\n",
        "    :title, type-string: Plot title\n",
        "\n",
        "  return None\n",
        "\n",
        "  '''\n",
        "  # step 1 - generate simulation plot\n",
        "  g = sns.relplot(data=df,\n",
        "                  x='no_records',\n",
        "                  y=y_data,\n",
        "                  kind='line',\n",
        "                  hue='programming_method',\n",
        "                  height=6,\n",
        "                  aspect=1.5\n",
        "                  )\n",
        "  \n",
        "  # step 2 - format plot\n",
        "  g.set_xlabels(\"Number of Data Records\", fontsize=12)\n",
        "  g.set_ylabels(\"ML Runetime [seconds]\",  fontsize=12)\n",
        "  g.fig.suptitle(title, fontsize=12, fontweight='bold')\n",
        "\n",
        "  plt.show()\n",
        "\n",
        "  return None"
      ],
      "metadata": {
        "id": "gDe8PxUlINQp"
      },
      "execution_count": 4,
      "outputs": []
    },
    {
      "cell_type": "markdown",
      "source": [
        "## ML Pipeline"
      ],
      "metadata": {
        "id": "iyYvPCt3blqB"
      }
    },
    {
      "cell_type": "markdown",
      "source": [
        "### Architecture"
      ],
      "metadata": {
        "id": "f3i2jHPvcrWJ"
      }
    },
    {
      "cell_type": "markdown",
      "source": [
        "<img src='https://drive.google.com/uc?id=1agL1PAmlSUs_Y7i9tP6R7yAce073MSE0'>"
      ],
      "metadata": {
        "id": "8JFLboS5CrVR"
      }
    },
    {
      "cell_type": "markdown",
      "source": [
        "<img src='https://drive.google.com/uc?id=1xryzCW2Z2LmTWS13H0JHwWqSMuGQ0c8K'>"
      ],
      "metadata": {
        "id": "e91RgAMaC1Lk"
      }
    },
    {
      "cell_type": "markdown",
      "source": [
        "### Test No. 1 Workflow\n",
        "\n",
        "**Controlled Test Conditions**\n",
        "*   Problem: binary classification prediction\n",
        "*   ML Model: kNN\n",
        "*   ML Optimization: GridSearchCV\n",
        "*   Number of runs: 1\n",
        "*   Performance metric: runtime\n",
        "*   Dataset: [Pima Indians Diabetes Database](https://www.kaggle.com/datasets/uciml/pima-indians-diabetes-database)\n",
        "*   Dataset Dimension: (768, 9)"
      ],
      "metadata": {
        "id": "XevARLaaKdd8"
      }
    },
    {
      "cell_type": "markdown",
      "source": [
        "CPU"
      ],
      "metadata": {
        "id": "WfuDKptxRR_R"
      }
    },
    {
      "cell_type": "code",
      "source": [
        "params = {\n",
        "    'programming_type':'CPU',\n",
        "    'data_url':'https://raw.githubusercontent.com/aaguirre8/high-performance-code/main/diabetes-dataset.csv',\n",
        "    'is_generic_dataset':False\n",
        "}\n",
        "\n",
        "cpu_pipeline_results_1 = main(params)"
      ],
      "metadata": {
        "id": "45O3qVx7RcTg",
        "colab": {
          "base_uri": "https://localhost:8080/",
          "height": 0
        },
        "outputId": "a2a57288-18e0-4fdc-88be-38054cb777fa"
      },
      "execution_count": 5,
      "outputs": [
        {
          "output_type": "stream",
          "name": "stdout",
          "text": [
            "ML pipeline will run on CPU\n",
            "step 1 - reading diabetes dataset from URL https://raw.githubusercontent.com/aaguirre8/high-performance-code/main/diabetes-dataset.csv\n",
            "Dataset shape: (768, 9)\n",
            "step 2 - preprocessing data for ML\n",
            "step 3 - Training k-Nearest Neighbor model & making the predicting\n",
            "ML mean accuracy: [0.74609375]\n",
            "Model training and prediction runtime: 0.10261050100007196\n",
            "step 4 - Finding the best # of Neighbors through GridSearch CV\n",
            "Best number of kNeighbors: {'n_neighbors': 14}\n",
            "ML optimization runtime: 1.448073364000038\n"
          ]
        }
      ]
    },
    {
      "cell_type": "markdown",
      "source": [
        "GPU"
      ],
      "metadata": {
        "id": "8qfo4WGRIDa2"
      }
    },
    {
      "cell_type": "code",
      "source": [
        "params = {\n",
        "    'programming_type':'GPU',\n",
        "    'data_url':'https://raw.githubusercontent.com/aaguirre8/high-performance-code/main/diabetes-dataset.csv',\n",
        "    'is_generic_dataset':False\n",
        "}\n",
        "\n",
        "gpu_pipeline_results_1 = main(params)"
      ],
      "metadata": {
        "colab": {
          "base_uri": "https://localhost:8080/",
          "height": 0
        },
        "id": "AWAsLiXPIAVz",
        "outputId": "754289cb-7d01-4602-d573-33d3095458e8"
      },
      "execution_count": 6,
      "outputs": [
        {
          "output_type": "stream",
          "name": "stdout",
          "text": [
            "ML pipeline will run on GPU\n",
            "step 1 - reading diabetes dataset from URL https://raw.githubusercontent.com/aaguirre8/high-performance-code/main/diabetes-dataset.csv\n",
            "Dataset shape: (768, 9)\n",
            "step 2 - preprocessing data for ML\n",
            "step 3 - Training k-Nearest Neighbor model & making the predicting\n",
            "ML mean accuracy: [0.69140625]\n",
            "Model training and prediction runtime: 6.490009912000005\n",
            "step 4 - Finding the best # of Neighbors through GridSearch CV\n",
            "Best number of kNeighbors: {'n_neighbors': 23}\n",
            "ML optimization runtime: 28.879568814000095\n"
          ]
        }
      ]
    },
    {
      "cell_type": "markdown",
      "source": [
        "### Test No. 1 Results"
      ],
      "metadata": {
        "id": "A4yJsZ9ryxho"
      }
    },
    {
      "cell_type": "code",
      "source": [
        "# Visualize runtimes\n",
        "barplot_graphs(cpu_pipeline_results_1, gpu_pipeline_results_1)"
      ],
      "metadata": {
        "colab": {
          "base_uri": "https://localhost:8080/",
          "height": 431
        },
        "id": "FAb9xLs2Icxl",
        "outputId": "fb957a08-d94c-4ad3-9450-bc19a9f315fa"
      },
      "execution_count": 7,
      "outputs": [
        {
          "output_type": "display_data",
          "data": {
            "text/plain": [
              "<Figure size 1008x432 with 2 Axes>"
            ],
            "image/png": "[encoded data removed]"
          },
          "metadata": {
            "needs_background": "light"
          }
        }
      ]
    },
    {
      "cell_type": "code",
      "source": [
        "# Compute runtime ratios\n",
        "# ml_ratio, optimization_ratio = runtime_ratios(cpu_pipeline_results_1, gpu_pipeline_results_1)\n",
        "\n",
        "print(f'ML Ratio: 93.99 \\\n",
        "        Hyperparametrization Ratio: 23.02')"
      ],
      "metadata": {
        "colab": {
          "base_uri": "https://localhost:8080/",
          "height": 0
        },
        "id": "nAzalxC7KBiR",
        "outputId": "ef397360-9c5a-465e-af97-5488bec97918"
      },
      "execution_count": 8,
      "outputs": [
        {
          "output_type": "stream",
          "name": "stdout",
          "text": [
            "ML Ratio: 93.99         Hyperparametrization Ratio: 23.02\n"
          ]
        }
      ]
    },
    {
      "cell_type": "markdown",
      "source": [
        "Looking at the test no.1 results, the following questions arise:\n",
        "\n",
        "1.   Which programming approach had slower ML Modelling?\n",
        "    *   GPU runtime is x9.57 slower than CPU\n",
        "2.   Which programming approach had slower ML Hyperparametrization?\n",
        "    *   GPU runtime is x22.54 slower than CPU\n",
        "\n",
        "Contrary to expected, the GPU runtimes were substantially slower than CPU runtimes. If a modern GPU like the `NVIDIA Tesla P100` have more than 3584 processor cores, why is the GPU's performance slower than CPU? <br>\n",
        "<br>\n",
        "The scalability of machine learning training and optimization is often limited by the dataset characteristic, e.g. sample size. (Cheng et al., 2019). That is to say, as the number of cores increases the number of data must scale to display a performance optimization between both approaches (RAPIDS docs, 2020).<br>\n",
        "The diabetes dataset size used on the test no. 1 is 6,144 datapoints (768 records, and 8 dimensions). Hence, more parallel computing resource does not increase the machine learning training and optimization pipelines.\n",
        "\n",
        "\n",
        "\n"
      ],
      "metadata": {
        "id": "VTzieCKlBrP4"
      }
    },
    {
      "cell_type": "markdown",
      "source": [
        "### Test No. 2 Workflow\n",
        "\n",
        "**Controlled Test Conditions**\n",
        "*   Problem: binary classification prediction\n",
        "*   ML Model: kNN\n",
        "*   ML Optimization: GridSearchCV\n",
        "*   Number of runs: 1\n",
        "*   Performance metric: runtime\n",
        "*   Dataset: Generic classification dataset from [SkLearn](https://scikit-learn.org/stable/datasets.html)\n",
        "*   Dataset Dimension: (40000, 20)"
      ],
      "metadata": {
        "id": "3MdkRG7lJ3ds"
      }
    },
    {
      "cell_type": "markdown",
      "source": [
        "CPU"
      ],
      "metadata": {
        "id": "KOqfQGmGKJ_K"
      }
    },
    {
      "cell_type": "code",
      "source": [
        "params = {\n",
        "    'programming_type':'CPU',\n",
        "    'is_generic_dataset':True,\n",
        "    'sample_size':40000\n",
        "}\n",
        "\n",
        "cpu_pipeline_results_2 = main(params)"
      ],
      "metadata": {
        "colab": {
          "base_uri": "https://localhost:8080/",
          "height": 0
        },
        "id": "l1QXpX4cKJBZ",
        "outputId": "337186f7-b831-4a9f-ee51-bdd1f0ae85dd"
      },
      "execution_count": 9,
      "outputs": [
        {
          "output_type": "stream",
          "name": "stdout",
          "text": [
            "ML pipeline will run on CPU\n",
            "step 1 - building generic dataset - sample size: 40000\n",
            "Dataset shape: (40000, 20)\n",
            "step 2 - preprocessing data for ML\n",
            "step 3 - Training k-Nearest Neighbor model & making the predicting\n",
            "ML mean accuracy: [0.9245537723113845]\n",
            "Model training and prediction runtime: 61.57861885400007\n",
            "step 4 - Finding the best # of Neighbors through GridSearch CV\n",
            "Best number of kNeighbors: {'n_neighbors': 17}\n",
            "ML oprtimization runtime: 437.8793350499998\n"
          ]
        }
      ]
    },
    {
      "cell_type": "markdown",
      "source": [
        "GPU"
      ],
      "metadata": {
        "id": "aQV-9UZMW0-3"
      }
    },
    {
      "cell_type": "code",
      "source": [
        "params = {\n",
        "    'programming_type':'GPU',\n",
        "    'is_generic_dataset':True,\n",
        "    'sample_size':40000\n",
        "}\n",
        "\n",
        "gpu_pipeline_results_2 = main(params)"
      ],
      "metadata": {
        "colab": {
          "base_uri": "https://localhost:8080/",
          "height": 0
        },
        "id": "I7izC07VM5KJ",
        "outputId": "2d2ef0af-dcca-41ed-863c-81c418f13894"
      },
      "execution_count": 10,
      "outputs": [
        {
          "output_type": "stream",
          "name": "stdout",
          "text": [
            "ML pipeline will run on GPU\n",
            "step 1 - building generic dataset - sample size: 40000\n",
            "Dataset shape: (40000, 20)\n",
            "step 2 - preprocessing data for ML\n",
            "step 3 - Training k-Nearest Neighbor model & making the predicting\n",
            "ML mean accuracy: [0.9057226181030273]\n",
            "Model training and prediction runtime: 2.7768038609997348\n",
            "step 4 - Finding the best # of Neighbors through GridSearch CV\n",
            "Best number of kNeighbors: {'n_neighbors': 28}\n",
            "ML oprtimization runtime: 27.413100744000076\n"
          ]
        }
      ]
    },
    {
      "cell_type": "markdown",
      "source": [
        "### Test No. 2 Results"
      ],
      "metadata": {
        "id": "toWE7meTMCGF"
      }
    },
    {
      "cell_type": "code",
      "source": [
        "# Visualize runtimes\n",
        "barplot_graphs(cpu_pipeline_results_2, gpu_pipeline_results_2)"
      ],
      "metadata": {
        "colab": {
          "base_uri": "https://localhost:8080/",
          "height": 431
        },
        "id": "_YI2yREoMBfJ",
        "outputId": "8a63ac22-b4b2-4d1d-aa49-d9691283b0e5"
      },
      "execution_count": 11,
      "outputs": [
        {
          "output_type": "display_data",
          "data": {
            "text/plain": [
              "<Figure size 1008x432 with 2 Axes>"
            ],
            "image/png": "[encoded data removed]"
          },
          "metadata": {
            "needs_background": "light"
          }
        }
      ]
    },
    {
      "cell_type": "code",
      "source": [
        "print(f'ML Ratio: 70.54 \\\n",
        "        Hyperparametrization Ratio: 15.80')"
      ],
      "metadata": {
        "colab": {
          "base_uri": "https://localhost:8080/",
          "height": 0
        },
        "id": "Vv3dqTi2MGzM",
        "outputId": "13333f32-fb92-463a-f93d-955e17d91153"
      },
      "execution_count": 12,
      "outputs": [
        {
          "output_type": "stream",
          "name": "stdout",
          "text": [
            "ML Ratio: 70.54         Hyperparametrization Ratio: 15.80\n"
          ]
        }
      ]
    },
    {
      "cell_type": "markdown",
      "source": [
        "On test number two, the dataset shape increased (20,000 records, 19 dimensions). As a result, performance improvement is clearly shown in the barplot shown above. The ML modelling was 70.54 times faster in GPU than CPU. Likewise, the GridSearchCV hyper-parametrization on GPU was 15.80 times faster than CPU. <br>\n",
        "<br>\n",
        "As with any parallel system, the formula and law established by Ahmdal (1967) apply to GPU as well. Therefore as seen in the graph below, the runtime gains were benefited by the number of cores and the parallelization percentage boosting.\n"
      ],
      "metadata": {
        "id": "in6dBvfxMWAE"
      }
    },
    {
      "cell_type": "markdown",
      "source": [
        "<img src='https://drive.google.com/uc?id=1ERJQhDPdlDkKpac0YJg9dNZiIL6EnN3i'>"
      ],
      "metadata": {
        "id": "9Id-94lcl8zv"
      }
    },
    {
      "cell_type": "markdown",
      "source": [
        "## Runtimes Performance Simulation"
      ],
      "metadata": {
        "id": "rUNnIXDYzX44"
      }
    },
    {
      "cell_type": "markdown",
      "source": [
        "### Simulation"
      ],
      "metadata": {
        "id": "ipc7l51mGat1"
      }
    },
    {
      "cell_type": "markdown",
      "source": [
        "**Simulation Conditions**\n",
        "*   Pipelines to be simulated: ML (CPU & GPU)\n",
        "*   Increment element: sample size\n",
        "*   Range of sample sizes: 1,000 - 41,000\n",
        "*   Number of increment stepover: 10,000"
      ],
      "metadata": {
        "id": "sR_sycYnzgXx"
      }
    },
    {
      "cell_type": "markdown",
      "source": [
        "CPU"
      ],
      "metadata": {
        "id": "AhZP6i9lGPhF"
      }
    },
    {
      "cell_type": "code",
      "source": [
        "cpu_ml_simulation, cpu_optimization_simulation = ml_simulation('CPU')"
      ],
      "metadata": {
        "colab": {
          "base_uri": "https://localhost:8080/",
          "height": 0
        },
        "id": "2kJnMhMoMr15",
        "outputId": "997cc85b-9ad8-46da-cb83-7498ca3f469e"
      },
      "execution_count": 13,
      "outputs": [
        {
          "output_type": "stream",
          "name": "stdout",
          "text": [
            "ML pipeline will run on CPU\n",
            "step 1 - building generic dataset - sample size: 1000\n",
            "Dataset shape: (1000, 20)\n",
            "step 2 - preprocessing data for ML\n",
            "step 3 - Training k-Nearest Neighbor model & making the predicting\n",
            "ML mean accuracy: [0.811377245508982]\n",
            "Model training and prediction runtime: 0.307104273999812\n",
            "step 4 - Finding the best # of Neighbors through GridSearch CV\n",
            "Best number of kNeighbors: {'n_neighbors': 25}\n",
            "ML oprtimization runtime: 5.831186579999667\n",
            "ML pipeline will run on CPU\n",
            "step 1 - building generic dataset - sample size: 11000\n",
            "Dataset shape: (11000, 20)\n",
            "step 2 - preprocessing data for ML\n",
            "step 3 - Training k-Nearest Neighbor model & making the predicting\n",
            "ML mean accuracy: [0.9116443959640033]\n",
            "Model training and prediction runtime: 5.402072654999756\n",
            "step 4 - Finding the best # of Neighbors through GridSearch CV\n",
            "Best number of kNeighbors: {'n_neighbors': 20}\n",
            "ML oprtimization runtime: 38.31347782700004\n",
            "ML pipeline will run on CPU\n",
            "step 1 - building generic dataset - sample size: 21000\n",
            "Dataset shape: (21000, 20)\n",
            "step 2 - preprocessing data for ML\n",
            "step 3 - Training k-Nearest Neighbor model & making the predicting\n",
            "ML mean accuracy: [0.9092857142857143]\n",
            "Model training and prediction runtime: 15.274990328000058\n",
            "step 4 - Finding the best # of Neighbors through GridSearch CV\n",
            "Best number of kNeighbors: {'n_neighbors': 25}\n",
            "ML oprtimization runtime: 115.50536270399971\n",
            "ML pipeline will run on CPU\n",
            "step 1 - building generic dataset - sample size: 31000\n",
            "Dataset shape: (31000, 20)\n",
            "step 2 - preprocessing data for ML\n",
            "step 3 - Training k-Nearest Neighbor model & making the predicting\n",
            "ML mean accuracy: [0.9059415521579253]\n",
            "Model training and prediction runtime: 34.51526431500042\n",
            "step 4 - Finding the best # of Neighbors through GridSearch CV\n",
            "Best number of kNeighbors: {'n_neighbors': 21}\n",
            "ML oprtimization runtime: 257.57047471099986\n"
          ]
        }
      ]
    },
    {
      "cell_type": "markdown",
      "source": [
        "GPU"
      ],
      "metadata": {
        "id": "_JydSTYPGWG3"
      }
    },
    {
      "cell_type": "code",
      "source": [
        "gpu_ml_simulation, gpu_optimization_simulation = ml_simulation('GPU')"
      ],
      "metadata": {
        "colab": {
          "base_uri": "https://localhost:8080/",
          "height": 0
        },
        "id": "maMMnxs3MrxI",
        "outputId": "3cd42646-0966-4504-e780-09f87638e2b9"
      },
      "execution_count": 14,
      "outputs": [
        {
          "output_type": "stream",
          "name": "stdout",
          "text": [
            "ML pipeline will run on GPU\n",
            "step 1 - building generic dataset - sample size: 1000\n",
            "Dataset shape: (1000, 20)\n",
            "step 2 - preprocessing data for ML\n",
            "step 3 - Training k-Nearest Neighbor model & making the predicting\n",
            "ML mean accuracy: [0.9429429173469543]\n",
            "Model training and prediction runtime: 0.7792177689998425\n",
            "step 4 - Finding the best # of Neighbors through GridSearch CV\n",
            "Best number of kNeighbors: {'n_neighbors': 18}\n",
            "ML oprtimization runtime: 25.730662808000034\n",
            "ML pipeline will run on GPU\n",
            "step 1 - building generic dataset - sample size: 11000\n",
            "Dataset shape: (11000, 20)\n",
            "step 2 - preprocessing data for ML\n",
            "step 3 - Training k-Nearest Neighbor model & making the predicting\n",
            "ML mean accuracy: [0.9345335364341736]\n",
            "Model training and prediction runtime: 0.6934862259995498\n",
            "step 4 - Finding the best # of Neighbors through GridSearch CV\n",
            "Best number of kNeighbors: {'n_neighbors': 27}\n",
            "ML oprtimization runtime: 26.306223634000162\n",
            "ML pipeline will run on GPU\n",
            "step 1 - building generic dataset - sample size: 21000\n",
            "Dataset shape: (21000, 20)\n",
            "step 2 - preprocessing data for ML\n",
            "step 3 - Training k-Nearest Neighbor model & making the predicting\n",
            "ML mean accuracy: [0.9361428618431091]\n",
            "Model training and prediction runtime: 0.7613871099997596\n",
            "step 4 - Finding the best # of Neighbors through GridSearch CV\n",
            "Best number of kNeighbors: {'n_neighbors': 29}\n",
            "ML oprtimization runtime: 26.58848246699972\n",
            "ML pipeline will run on GPU\n",
            "step 1 - building generic dataset - sample size: 31000\n",
            "Dataset shape: (31000, 20)\n",
            "step 2 - preprocessing data for ML\n",
            "step 3 - Training k-Nearest Neighbor model & making the predicting\n",
            "ML mean accuracy: [0.9095132350921631]\n",
            "Model training and prediction runtime: 0.7483249570000226\n",
            "step 4 - Finding the best # of Neighbors through GridSearch CV\n",
            "Best number of kNeighbors: {'n_neighbors': 26}\n",
            "ML oprtimization runtime: 27.20026793199986\n"
          ]
        }
      ]
    },
    {
      "cell_type": "markdown",
      "source": [
        "### Simulation Results"
      ],
      "metadata": {
        "id": "vLccQixtGeTm"
      }
    },
    {
      "cell_type": "markdown",
      "source": [
        "Simulation Visualization:"
      ],
      "metadata": {
        "id": "Xr3uYLCP0OMM"
      }
    },
    {
      "cell_type": "code",
      "source": [
        "# parse simulation results to tabular format\n",
        "cpu_sim = pd.DataFrame({\n",
        "            'programming_method':'cpu',\n",
        "            'no_records':np.arange(1000, 41000, 10000).tolist(),\n",
        "            'ml_runtimes':cpu_ml_simulation,\n",
        "            'optimization_runtimes':cpu_optimization_simulation\n",
        "            }\n",
        "          )\n",
        "\n",
        "gpu_sim = pd.DataFrame({\n",
        "            'programming_method':'gpu',\n",
        "            'no_records':np.arange(1000, 41000, 10000).tolist(),\n",
        "            'ml_runtimes':gpu_ml_simulation,\n",
        "            'optimization_runtimes':gpu_optimization_simulation\n",
        "            }\n",
        "          )\n",
        "\n",
        "# concatenate data\n",
        "df_sim = pd.concat([cpu_sim, gpu_sim]).reset_index()"
      ],
      "metadata": {
        "id": "UA6zy3uL0ME2"
      },
      "execution_count": 15,
      "outputs": []
    },
    {
      "cell_type": "code",
      "source": [
        "visualize_simulation(df_sim, 'ml_runtimes', 'ML Runtimes Simulation')"
      ],
      "metadata": {
        "colab": {
          "base_uri": "https://localhost:8080/",
          "height": 446
        },
        "id": "OuuAfjTS2q5I",
        "outputId": "d492c6e7-a737-4fd7-88b6-7b4c9d6d9946"
      },
      "execution_count": 16,
      "outputs": [
        {
          "output_type": "display_data",
          "data": {
            "text/plain": [
              "<Figure size 767x432 with 1 Axes>"
            ],
            "image/png": "[encoded data removed]"
          },
          "metadata": {
            "needs_background": "light"
          }
        }
      ]
    },
    {
      "cell_type": "code",
      "source": [
        "visualize_simulation(df_sim, 'optimization_runtimes', 'ML Optimization Runtimes Simulation')"
      ],
      "metadata": {
        "colab": {
          "base_uri": "https://localhost:8080/",
          "height": 446
        },
        "id": "k8b7aSKF_5u6",
        "outputId": "ca8c9160-1159-4bfa-8516-bad91ef72af4"
      },
      "execution_count": 17,
      "outputs": [
        {
          "output_type": "display_data",
          "data": {
            "text/plain": [
              "<Figure size 767x432 with 1 Axes>"
            ],
            "image/png": "[encoded data removed]"
          },
          "metadata": {
            "needs_background": "light"
          }
        }
      ]
    },
    {
      "cell_type": "markdown",
      "source": [
        "Per the series analysis, at the starting point where the data size is 1,000 the CPU ML runtime is lower than the GPU runtime. However, as the data gets bigger the CPU runtime rises exponentially. In contrast, the GPU runtime maintains stability with a runtime mean of 0.7147 seconds. <br>\n",
        "On the other hand, the ML optimization runtime performance delays displaying an improvement."
      ],
      "metadata": {
        "id": "wsyyPXI3GkNg"
      }
    },
    {
      "cell_type": "markdown",
      "source": [
        "## Conclusion"
      ],
      "metadata": {
        "id": "LF_FP8cAJiEQ"
      }
    },
    {
      "cell_type": "markdown",
      "source": [
        "The demand of Big data's applied ML solutions is increasing in industries that are starting to migrate their processes to a smart automation process by embracing these technologies. Concurrency is the key word to solve real-world big data problems. GPU prove to be an efficient parallelization procesor.<br>\n",
        "<br>\n",
        "RAPIDS is an open-source suite that gives GPU acceleration for ML pipelines emulating the interface of well-known libraries such as pandas, NumPy, SkLearn and others.<br>\n",
        "<br>\n",
        "CPU is a suitable option for small datasets. Yet, as the data increase the CPU runtimes inflates exponentially whereas GPU runtimes remain stable. Nevertheless, ML runtime scalability is limited by the dataset characteristics. "
      ],
      "metadata": {
        "id": "ciIPDErKJjw5"
      }
    },
    {
      "cell_type": "markdown",
      "source": [
        "## References"
      ],
      "metadata": {
        "id": "vSips10iQFxw"
      }
    },
    {
      "cell_type": "markdown",
      "source": [
        "1.   Moore, G. (1965) ‘Cramming More Components Onto Integrated Circuits’, Electronics, Volume 38, Number 8\n",
        "\n",
        "\n",
        "2.   Amdahl G.M. (1967) ‘Validity of the single-processor approach to achieve large scale computing capabilities’, AFIPS Joint Spring Conference Proceedings 30. Atlantic City, NJ, Apr. 18–20. AFIPS Press, Reston VA\n",
        "\n",
        "\n",
        "3.   Cheng, D., Zhang, H., Xia, F., Li, S., Zhang, Y. (2020) ‘The Scalability for Parallel Machine Learning Training Algorithm: Dataset Matters’, arXiv:1910.11510 [cs.DC], doi: https://doi.org/10.48550/arXiv.1910.11510\n",
        "\n",
        "\n",
        "4.   RAPIDS Docs. (2020) ‘Intro and Key Concepts for cuML’, 3. Be Fast!, [ONLINE] Available at: https://docs.rapids.ai/api/cuml/stable/cuml_intro.html (Accessed: 19 June 2022)\n",
        "\n",
        "\n",
        "5.   Wardynsky, DJ, Brainspire. (2019) ‘End of Moore’s Law – What’s Next for the Future of Computing, [ONLINE] Available at: https://www.brainspire.com/blog/end-of-moores-law-whats-next-for-the-future-of-computing (Accessed: 20 June 2022)"
      ],
      "metadata": {
        "id": "Ha4lshoPQJgy"
      }
    }
  ]
}